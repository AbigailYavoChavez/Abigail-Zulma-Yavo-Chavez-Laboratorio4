{
  "nbformat": 4,
  "nbformat_minor": 0,
  "metadata": {
    "colab": {
      "provenance": []
    },
    "kernelspec": {
      "name": "python3",
      "display_name": "Python 3"
    },
    "language_info": {
      "name": "python"
    }
  },
  "cells": [
    {
      "cell_type": "markdown",
      "source": [
        "**Como primer puto se enlaza al drive para obtener el dataset y asi poder realizar un cuadernillo **\n",
        "\n",
        "\n",
        "\n"
      ],
      "metadata": {
        "id": "PmoMVNvR8kHx"
      }
    },
    {
      "cell_type": "code",
      "execution_count": 2,
      "metadata": {
        "id": "W1iJHyAyqhjC"
      },
      "outputs": [],
      "source": [
        "import numpy as np\n",
        "import pandas as pd\n",
        "from google.colab import drive\n",
        "from matplotlib import pyplot\n"
      ]
    },
    {
      "cell_type": "markdown",
      "source": [
        "En esta primera liberia se importan los datos"
      ],
      "metadata": {
        "id": "9ng-FxGUBIQ-"
      }
    },
    {
      "cell_type": "code",
      "source": [
        "drive.mount(\"/content/drive\")"
      ],
      "metadata": {
        "colab": {
          "base_uri": "https://localhost:8080/"
        },
        "id": "VKr9E1ykqoMx",
        "outputId": "f4fd7a13-d5e3-424d-ce8d-1d9950650171"
      },
      "execution_count": 3,
      "outputs": [
        {
          "output_type": "stream",
          "name": "stdout",
          "text": [
            "Mounted at /content/drive\n"
          ]
        }
      ]
    },
    {
      "cell_type": "markdown",
      "source": [
        "AquÍ fue lo que hice la importacion de los dataset en el drive"
      ],
      "metadata": {
        "id": "7OgpzDO8BjL3"
      }
    },
    {
      "cell_type": "code",
      "source": [
        "data = pd.read_csv(\"/content/drive/MyDrive/Dataset Machine learning/housing.csv\")\n",
        "data = np.array(data)\n",
        "x = data[:,:8]\n",
        "y = data[:,8]\n",
        "m_ejemplos = y.size"
      ],
      "metadata": {
        "id": "oWHTWn13qqLg"
      },
      "execution_count": 4,
      "outputs": []
    },
    {
      "cell_type": "markdown",
      "source": [
        "Se importo la ruta de los dataset.\n",
        "Donde el array viene a ser lista de datos donde se va a convertir un vector.\n",
        "donde las variables de  \"x\" viene a ser los numeros de caracteristicas en un rango donde el numero 8 es el limite y la variable \"y\" vendria a ser lo ejemplos del dataset."
      ],
      "metadata": {
        "id": "NGGUks8vBwwO"
      }
    },
    {
      "cell_type": "code",
      "source": [
        "x.shape"
      ],
      "metadata": {
        "colab": {
          "base_uri": "https://localhost:8080/"
        },
        "id": "qU8BapzrjLKw",
        "outputId": "7b571a2b-fa7d-4f09-b4f2-864300ffd08f"
      },
      "execution_count": 5,
      "outputs": [
        {
          "output_type": "execute_result",
          "data": {
            "text/plain": [
              "(20640, 8)"
            ]
          },
          "metadata": {},
          "execution_count": 5
        }
      ]
    },
    {
      "cell_type": "markdown",
      "source": [
        "x.shape me permite ver el indice de columnas y filas."
      ],
      "metadata": {
        "id": "_mon8dgdDj-m"
      }
    },
    {
      "cell_type": "code",
      "source": [
        "def normalizarX(x):\n",
        "  x_normalizada = []\n",
        "  promedio = np.mean(x,axis=0)\n",
        "  x = x.astype(float)\n",
        "  desviacion_estandar = np.std(x,axis=0)\n",
        "  for i in range(m_ejemplos):\n",
        "    caracteristicas_x = []\n",
        "    for j in range(x.shape[1]):\n",
        "      if desviacion_estandar[j] != 0:\n",
        "        caracteristicas_x.append((x[i,j]-promedio[j])/desviacion_estandar[j])\n",
        "      else:\n",
        "        caracteristicas_x.append(0)\n",
        "    x_normalizada.append(caracteristicas_x)\n",
        "  return x_normalizada, promedio, desviacion_estandar"
      ],
      "metadata": {
        "id": "-jzF2V-KtYxf"
      },
      "execution_count": 6,
      "outputs": []
    },
    {
      "cell_type": "markdown",
      "source": [
        "Al normalizar hace que los valores sean mas pequeños.\n",
        "donde tambien saca el promedio de las colunmas de \"x\" para asi no tener valores de 0 o error."
      ],
      "metadata": {
        "id": "SfZbYRK3D4h9"
      }
    },
    {
      "cell_type": "code",
      "source": [
        "x_normalizada, promedio, desviacion_estandar = normalizarX(x)\n",
        "x_normalizada = np.array(x_normalizada)\n",
        "x = np.concatenate((np.ones((m_ejemplos,1)),x_normalizada),axis=1)"
      ],
      "metadata": {
        "id": "fcSVC01ntZmH"
      },
      "execution_count": 7,
      "outputs": []
    },
    {
      "cell_type": "markdown",
      "source": [
        "A quí se hace las menciones de las caracteristicas para asi poderse guardar."
      ],
      "metadata": {
        "id": "hco88ShQFLqE"
      }
    },
    {
      "cell_type": "code",
      "source": [
        "def calcularCosto(x, y, theta):\n",
        "  J = 0\n",
        "  hipotesis = np.dot(x,theta)\n",
        "  J = (1/(2*m_ejemplos))*np.sum(np.square((hipotesis)-y))\n",
        "  return J"
      ],
      "metadata": {
        "id": "x1Y2Wb2ati8_"
      },
      "execution_count": 8,
      "outputs": []
    },
    {
      "cell_type": "markdown",
      "source": [
        "Con el costo se puede ver cada interaccion que se pueda ajustar a taza de proximidad"
      ],
      "metadata": {
        "id": "HjTb6d5uGNLU"
      }
    },
    {
      "cell_type": "code",
      "source": [
        "def descensoGradiente(x,y,theta,alpha,n_iteraciones):\n",
        "  historial_J = []\n",
        "  theta = theta.copy()\n",
        "  for i in range(n_iteraciones):\n",
        "    theta = theta-(alpha/m_ejemplos)*(np.dot(x,theta)-y).dot(x)\n",
        "    historial_J.append(calcularCosto(x,y,theta))\n",
        "  return theta, historial_J"
      ],
      "metadata": {
        "id": "ChQR8cl3tkA_"
      },
      "execution_count": 9,
      "outputs": []
    },
    {
      "cell_type": "markdown",
      "source": [
        "Con esta formula define la ecuacion para hallar la recta."
      ],
      "metadata": {
        "id": "ruRtKm94IITS"
      }
    },
    {
      "cell_type": "code",
      "source": [
        "def hallarTheta():\n",
        "  theta = np.zeros(x.shape[1])\n",
        "  n_iteraciones = 1000\n",
        "  alpha = 0.003\n",
        "  theta, historial_J = descensoGradiente(x,y,theta,alpha,n_iteraciones)\n",
        "  return theta, historial_J"
      ],
      "metadata": {
        "id": "cpJkRopRt_DH"
      },
      "execution_count": 10,
      "outputs": []
    },
    {
      "cell_type": "code",
      "source": [
        "theta, historial_J = hallarTheta()\n",
        "print(\"Las thetas encontradas son: \",theta)\n",
        "print(\"El menor costo que se pudo determinar fue de: \",historial_J[-1])"
      ],
      "metadata": {
        "colab": {
          "base_uri": "https://localhost:8080/"
        },
        "id": "f4NC_4RtuB9f",
        "outputId": "7a77ba92-2ac2-43dc-864a-698c1d5032fa"
      },
      "execution_count": 11,
      "outputs": [
        {
          "output_type": "stream",
          "name": "stdout",
          "text": [
            "Las thetas encontradas son:  [196603.40492298815 -18331.3977901406 -23132.693480589696\n",
            " 20710.775609709188 6247.244615531131 7592.383765372965\n",
            " -14824.629659601786 9784.232873114042 74599.0836649687]\n",
            "El menor costo que se pudo determinar fue de:  2939798575.73261\n"
          ]
        }
      ]
    },
    {
      "cell_type": "markdown",
      "source": [
        "Con theta hallamos lo que es x sub 1, x sub 2, x sub 3 etc.\n",
        "Donde multipica a los valores de una función.\n",
        "Y donde tambien theta se define al numero de interacciones para ajustar la curva de costo y el coeficiente alpha."
      ],
      "metadata": {
        "id": "WchwtOJmInZ5"
      }
    },
    {
      "cell_type": "code",
      "source": [
        "def normalizarXPredecir(x):\n",
        "  x = np.array(x)\n",
        "  caracteristicas_x_predecir = []\n",
        "  for i in range (x.shape[0]):\n",
        "    if desviacion_estandar[i] != 0:\n",
        "      caracteristicas_x_predecir.append((x[i]-promedio[i])/desviacion_estandar[i])\n",
        "    else:\n",
        "      caracteristicas_x_predecir.append(0)\n",
        "  return caracteristicas_x_predecir"
      ],
      "metadata": {
        "id": "6m15ZZXwuUC2"
      },
      "execution_count": 12,
      "outputs": []
    },
    {
      "cell_type": "markdown",
      "source": [
        "El predecir es para estimar o prever el valor de una variable objetivo en nuevos datos no vistos. Es decir, se utiliza para hacer predicciones sobre datos futuros o desconocidos."
      ],
      "metadata": {
        "id": "KDdaPqpAPUYu"
      }
    },
    {
      "cell_type": "code",
      "source": [
        "def predecir(x):\n",
        "  x = np.array(x)\n",
        "  x = np.array(x).astype(float)\n",
        "  x = normalizarXPredecir(x)\n",
        "  x = np.array(x)\n",
        "  x = np.concatenate(([1],x),axis=0)\n",
        "  y_predecir = np.dot(x,theta)\n",
        "  print(\"La y predicha para los valores de x es: \",y_predecir)"
      ],
      "metadata": {
        "id": "Ie9WX3rBuaPv"
      },
      "execution_count": 13,
      "outputs": []
    },
    {
      "cell_type": "code",
      "source": [
        "pyplot.plot(np.arange(len(historial_J)), historial_J, lw=2)\n",
        "pyplot.xlabel('Numero de iteraciones')\n",
        "pyplot.ylabel('Costo J')"
      ],
      "metadata": {
        "colab": {
          "base_uri": "https://localhost:8080/",
          "height": 482
        },
        "id": "4brTadsTvFex",
        "outputId": "d594de23-e9d5-476b-a861-43540ddb064d"
      },
      "execution_count": 14,
      "outputs": [
        {
          "output_type": "execute_result",
          "data": {
            "text/plain": [
              "Text(0, 0.5, 'Costo J')"
            ]
          },
          "metadata": {},
          "execution_count": 14
        },
        {
          "output_type": "display_data",
          "data": {
            "text/plain": [
              "<Figure size 640x480 with 1 Axes>"
            ],
            "image/png": "[encoded data removed]"
          },
          "metadata": {}
        }
      ]
    },
    {
      "cell_type": "markdown",
      "source": [
        "El numero de interaccion es de 1000 ya que se aproxima a menos de 0,5 donde podemos una recta."
      ],
      "metadata": {
        "id": "O4g0hWSEK85x"
      }
    },
    {
      "cell_type": "code",
      "source": [
        "predecir([-122.23,37.88,41.0,880.0,129.0,322.0,126.0,8.3252])\n",
        "predecir([-122.22,37.86,21.0,7099.0,1106.0,2401.0,1138.0,8.3014])\n",
        "predecir([-122.24,37.85,52.0,1467.0,190.0,496.0,177.0,7.2574])\n",
        "predecir([-122.25,37.85,52.0,1274.0,235.0,558.0,219.0,5.6431])\n",
        "predecir([-122.25,37.85,52.0,1627.0,280.0,565.0,259.0,3.8462])\n",
        "predecir([-122.25,37.85,52.0,919.0,213.0,413.0,193.0,4.0368])\n",
        "predecir([-122.25,37.84,52.0,2535.0,489.0,1094.0,514.0,3.6591])\n",
        "predecir([-122.25,37.84,52.0,3104.0,687.0,1157.0,647.0,3.12])\n",
        "predecir([-122.26,37.84,42.0,2555.0,665.0,1206.0,595.0,2.0804])\n",
        "predecir([-122.25,37.84,52.0,3549.0,707.0,1551.0,714.0,3.6912])"
      ],
      "metadata": {
        "colab": {
          "base_uri": "https://localhost:8080/"
        },
        "id": "eh5VI6Rfpq3M",
        "outputId": "401f2136-f9b0-44e0-ebd0-66f5c22bbdf8"
      },
      "execution_count": 15,
      "outputs": [
        {
          "output_type": "stream",
          "name": "stdout",
          "text": [
            "La y predicha para los valores de x es:  384464.60455591563\n",
            "La y predicha para los valores de x es:  384784.5792208989\n",
            "La y predicha para los valores de x es:  362857.497968173\n",
            "La y predicha para los valores de x es:  300078.66163989884\n",
            "La y predicha para los valores de x es:  232270.49094360633\n",
            "La y predicha para los valores de x es:  236824.58523608383\n",
            "La y predicha para los valores de x es:  230987.2380675034\n",
            "La y predicha para los valores de x es:  217583.39730722408\n",
            "La y predicha para los valores de x es:  156456.64439192438\n",
            "La y predicha para los valores de x es:  238203.29862894517\n"
          ]
        }
      ]
    },
    {
      "cell_type": "markdown",
      "source": [
        "Predecimos de las 10 filas de datos del dataset."
      ],
      "metadata": {
        "id": "FvEY_5ipLh3I"
      }
    },
    {
      "cell_type": "markdown",
      "source": [
        "METODO DE LA NORMAL"
      ],
      "metadata": {
        "id": "DvrEBInJ1Z2z"
      }
    },
    {
      "cell_type": "code",
      "source": [
        "data = pd.read_csv(\"/content/drive/MyDrive/Dataset Machine learning/housing.csv\")\n",
        "data = np.array(data)\n",
        "x = data[:,:8]\n",
        "y = data[:,8]\n",
        "m_ejemplos = y.size\n",
        "x = np.concatenate((np.ones((m_ejemplos,1)),x),axis=1)"
      ],
      "metadata": {
        "id": "yHzjEnhi1b3D"
      },
      "execution_count": 16,
      "outputs": []
    },
    {
      "cell_type": "code",
      "source": [
        "def metodoNormal(x, y):\n",
        "  x = np.float64(x)\n",
        "  y = np.float64(y)\n",
        "  theta = np.dot(np.dot(np.linalg.inv(np.dot(x.T,x)),x.T),y)\n",
        "  return theta"
      ],
      "metadata": {
        "id": "fL5nVtdP1-wZ"
      },
      "execution_count": 17,
      "outputs": []
    },
    {
      "cell_type": "markdown",
      "source": [
        "Con el metodo de la normal se hace un espacio para que puedan entran todos los resultados en decimales.\n",
        "Donde tambien se ajusta los valores de las características para que estén en una escala común, lo que ayuda a mejorar el rendimiento de los algoritmos al garantizar que todas las características tengan un rango similar."
      ],
      "metadata": {
        "id": "Wo804IBFM-Ha"
      }
    },
    {
      "cell_type": "code",
      "source": [
        "theta = metodoNormal(x, y)\n",
        "print(\"Las thetas encontradas son: \",theta)\n"
      ],
      "metadata": {
        "colab": {
          "base_uri": "https://localhost:8080/"
        },
        "id": "gbrcI8gg2BOr",
        "outputId": "c6e66885-6169-4496-bdd7-42d39ba4f7d9"
      },
      "execution_count": 18,
      "outputs": [
        {
          "output_type": "stream",
          "name": "stdout",
          "text": [
            "Las thetas encontradas son:  [-3.55023864e+06 -4.24444580e+04 -4.24178610e+04  1.13961806e+03\n",
            " -5.24593157e+00  5.72557159e+01 -4.08140970e+01  1.00147849e+02\n",
            "  3.93480354e+04]\n"
          ]
        }
      ]
    },
    {
      "cell_type": "code",
      "source": [
        "x_predecir = [1,-122.23,37.88,41.0,880.0,129.0,322.0,126.0,8.3252]\n",
        "x_predecir = np.array(x_predecir)\n",
        "y_predecir = np.dot(x_predecir,theta)\n",
        "print(\"La y predicha para los valores de x es: \",y_predecir)\n",
        "x_predecir = [1,-122.22,37.86,21.0,7099.0,1106.0,2401.0,1138.0,8.3014]\n",
        "x_predecir = np.array(x_predecir)\n",
        "y_predecir = np.dot(x_predecir,theta)\n",
        "print(\"La y predicha para los valores de x es: \",y_predecir)\n",
        "x_predecir = [1,-122.24,37.85,52.0,1467.0,190.0,496.0,177.0,7.2574]\n",
        "x_predecir = np.array(x_predecir)\n",
        "y_predecir = np.dot(x_predecir,theta)\n",
        "print(\"La y predicha para los valores de x es: \",y_predecir)\n",
        "x_predecir = [1,-122.25,37.85,52.0,1274.0,235.0,558.0,219.0,5.6431]\n",
        "x_predecir = np.array(x_predecir)\n",
        "y_predecir = np.dot(x_predecir,theta)\n",
        "print(\"La y predicha para los valores de x es: \",y_predecir)\n",
        "x_predecir = [1,-122.25,37.85,52.0,1627.0,280.0,565.0,259.0,3.8462]\n",
        "x_predecir = np.array(x_predecir)\n",
        "y_predecir = np.dot(x_predecir,theta)\n",
        "print(\"La y predicha para los valores de x es: \",y_predecir)\n",
        "x_predecir = [1,-122.25,37.85,52.0,919.0,213.0,413.0,193.0,4.0368]\n",
        "x_predecir = np.array(x_predecir)\n",
        "y_predecir = np.dot(x_predecir,theta)\n",
        "print(\"La y predicha para los valores de x es: \",y_predecir)\n",
        "x_predecir = [1,-122.25,37.84,52.0,2535.0,489.0,1094.0,514.0,3.6591]\n",
        "x_predecir = np.array(x_predecir)\n",
        "y_predecir = np.dot(x_predecir,theta)\n",
        "print(\"La y predicha para los valores de x es: \",y_predecir)\n",
        "x_predecir = [1,-122.25,37.84,52.0,3104.0,687.0,1157.0,647.0,3.12]\n",
        "x_predecir = np.array(x_predecir)\n",
        "y_predecir = np.dot(x_predecir,theta)\n",
        "print(\"La y predicha para los valores de x es: \",y_predecir)\n",
        "x_predecir = [1,-122.26,37.84,42.0,2555.0,665.0,1206.0,595.0,2.0804]\n",
        "x_predecir = np.array(x_predecir)\n",
        "y_predecir = np.dot(x_predecir,theta)\n",
        "print(\"La y predicha para los valores de x es: \",y_predecir)\n",
        "x_predecir = [1,-122.25,37.84,52.0,3549.0,707.0,1551.0,714.0,3.6912]\n",
        "x_predecir = np.array(x_predecir)\n",
        "y_predecir = np.dot(x_predecir,theta)\n",
        "print(\"La y predicha para los valores de x es: \",y_predecir)"
      ],
      "metadata": {
        "colab": {
          "base_uri": "https://localhost:8080/"
        },
        "id": "e01FRv_ot_aR",
        "outputId": "c929579a-6670-475f-b241-c7a99303c35c"
      },
      "execution_count": 19,
      "outputs": [
        {
          "output_type": "stream",
          "name": "stdout",
          "text": [
            "La y predicha para los valores de x es:  407509.54988438985\n",
            "La y predicha para los valores de x es:  424016.1199781181\n",
            "La y predicha para los valores de x es:  378145.6210621897\n",
            "La y predicha para los valores de x es:  320315.2397888585\n",
            "La y predicha para los valores de x es:  254055.66367297748\n",
            "La y predicha para los valores de x es:  261027.37048884702\n",
            "La y predicha para los valores de x es:  258268.00790329295\n",
            "La y predicha para los valores de x es:  256155.55457705626\n",
            "La y predicha para los valores de x es:  198690.4127125406\n",
            "La y predicha para los valores de x es:  268070.97884363646\n"
          ]
        }
      ]
    },
    {
      "cell_type": "code",
      "source": [
        "def entrenar_regresion_lineal_con_reg(X_train, y_train, tasa_aprendizaje, lambda_param, num_iteraciones):\n",
        "    m, n = X_train.shape\n",
        "    X_train = X_train.astype(np.float64)\n",
        "    y_train = y_train.astype(np.float64)\n",
        "    X_train_con_intercepto = agregar_columnasUnos(X_train)  # Agregar intercepto a X_train\n",
        "\n",
        "    theta = np.zeros(n + 1)  # Inicializar parámetros\n",
        "\n",
        "    for i in range(num_iteraciones):\n",
        "        prediccion = predecir(X_train_con_intercepto, theta)\n",
        "        error = prediccion - y_train\n",
        "        gradiente = np.dot(X_train_con_intercepto.T, error) / m\n",
        "        gradiente[1:] += (lambda_param / m) * theta[1:]  # Regularización, excepto para el término de intercepto\n",
        "        theta -= tasa_aprendizaje * gradiente\n",
        "\n",
        "    return theta"
      ],
      "metadata": {
        "id": "W9a0jC0MuUVR"
      },
      "execution_count": 36,
      "outputs": []
    },
    {
      "cell_type": "code",
      "source": [
        "def agregar_columnasUnos(X):\n",
        "    m = X.shape[0]\n",
        "    intercepto = np.ones((m, 1))\n",
        "    return np.concatenate((intercepto, X), axis=1)"
      ],
      "metadata": {
        "id": "oXk63R7du_4e"
      },
      "execution_count": 37,
      "outputs": []
    },
    {
      "cell_type": "code",
      "source": [
        "def predecir(X, theta):\n",
        "    return np.dot(X, theta)"
      ],
      "metadata": {
        "id": "J4xD_EBWvCgP"
      },
      "execution_count": 38,
      "outputs": []
    },
    {
      "cell_type": "code",
      "source": [
        "tasa_aprendizaje = 0.01\n",
        "lambda_param = 0.1\n",
        "num_iteraciones = 1000\n",
        "theta_reg= entrenar_regresion_lineal_con_reg(x, y, tasa_aprendizaje, lambda_param, num_iteraciones )"
      ],
      "metadata": {
        "colab": {
          "base_uri": "https://localhost:8080/"
        },
        "id": "XLwnROUnvg7f",
        "outputId": "bc2fbc49-5f36-4c30-ce51-84bea82c7504"
      },
      "execution_count": 39,
      "outputs": [
        {
          "output_type": "stream",
          "name": "stderr",
          "text": [
            "<ipython-input-36-87898354b342>:14: RuntimeWarning: invalid value encountered in subtract\n",
            "  theta -= tasa_aprendizaje * gradiente\n"
          ]
        }
      ]
    },
    {
      "cell_type": "code",
      "source": [
        "print(theta_reg)"
      ],
      "metadata": {
        "colab": {
          "base_uri": "https://localhost:8080/"
        },
        "id": "z9XKDXdmySMm",
        "outputId": "58c54e71-deaa-4c9f-b850-c8c29504ee06"
      },
      "execution_count": 40,
      "outputs": [
        {
          "output_type": "stream",
          "name": "stdout",
          "text": [
            "[nan nan nan nan nan nan nan nan nan nan]\n"
          ]
        }
      ]
    },
    {
      "cell_type": "markdown",
      "source": [
        "Conclusion:\n",
        "El metodo de la normal identifica mejor los valores de theta que usando el metodo descenso por el gradiente,como se demuestra en este cuadernillo."
      ],
      "metadata": {
        "id": "xlKRNplavu2g"
      }
    }
  ]
}